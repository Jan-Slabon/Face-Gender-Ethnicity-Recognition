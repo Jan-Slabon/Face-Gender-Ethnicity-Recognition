{
 "cells": [
  {
   "cell_type": "code",
   "execution_count": 13,
   "id": "bc060476",
   "metadata": {},
   "outputs": [],
   "source": [
    "import pandas as pd\n",
    "import numpy as np\n",
    "import os\n",
    "import matplotlib.pyplot as plt\n",
    "import seaborn as sns\n",
    "import warnings\n",
    "from tqdm.notebook import tqdm\n",
    "warnings.filterwarnings('ignore')\n",
    "%matplotlib inline\n",
    "from PIL import Image\n",
    "import tensorflow as tf\n",
    "from tensorflow.keras.utils import load_img\n",
    "from keras.models import Sequential, Model\n",
    "from keras.layers import Dense, Conv2D, Dropout, Flatten, MaxPooling2D, Input, BatchNormalization, Activation"
   ]
  },
  {
   "cell_type": "code",
   "execution_count": 3,
   "id": "cc29dcc0",
   "metadata": {},
   "outputs": [
    {
     "name": "stderr",
     "output_type": "stream",
     "text": [
      "2022-06-25 23:07:14.080682: E tensorflow/stream_executor/cuda/cuda_driver.cc:271] failed call to cuInit: CUDA_ERROR_NO_DEVICE: no CUDA-capable device is detected\n",
      "2022-06-25 23:07:14.083488: I tensorflow/stream_executor/cuda/cuda_diagnostics.cc:156] kernel driver does not appear to be running on this host (janPC): /proc/driver/nvidia/version does not exist\n",
      "2022-06-25 23:07:14.112310: I tensorflow/core/platform/cpu_feature_guard.cc:193] This TensorFlow binary is optimized with oneAPI Deep Neural Network Library (oneDNN) to use the following CPU instructions in performance-critical operations:  AVX2 FMA\n",
      "To enable them in other operations, rebuild TensorFlow with the appropriate compiler flags.\n"
     ]
    }
   ],
   "source": [
    "model_asessment = tf.keras.models.load_model(\"conv_model_2\")"
   ]
  },
  {
   "cell_type": "code",
   "execution_count": 5,
   "id": "7e4ad562",
   "metadata": {},
   "outputs": [
    {
     "data": {
      "application/vnd.jupyter.widget-view+json": {
       "model_id": "c5fcaa65dd514ae5b4ad48c9e53c3cc6",
       "version_major": 2,
       "version_minor": 0
      },
      "text/plain": [
       "  0%|          | 0/16383 [00:00<?, ?it/s]"
      ]
     },
     "metadata": {},
     "output_type": "display_data"
    }
   ],
   "source": [
    "BASE_DIR = './input/utkface-new/UTKFace/'\n",
    "\n",
    "image_paths = []\n",
    "age_labels = []\n",
    "gender_labels = []\n",
    "race_labels = []\n",
    "\n",
    "for filename in tqdm(os.listdir(BASE_DIR)):\n",
    "    image_path = os.path.join(BASE_DIR, filename)\n",
    "    temp = filename.split('_')\n",
    "    if len(temp) == 4:\n",
    "        age = int(temp[0])\n",
    "        gender = int(temp[1])\n",
    "        race = int(temp[2])\n",
    "        image_paths.append(image_path)\n",
    "        age_labels.append(age)\n",
    "        gender_labels.append(gender)\n",
    "        race_labels.append(race)"
   ]
  },
  {
   "cell_type": "code",
   "execution_count": 6,
   "id": "a483a24d",
   "metadata": {},
   "outputs": [
    {
     "data": {
      "text/html": [
       "<div>\n",
       "<style scoped>\n",
       "    .dataframe tbody tr th:only-of-type {\n",
       "        vertical-align: middle;\n",
       "    }\n",
       "\n",
       "    .dataframe tbody tr th {\n",
       "        vertical-align: top;\n",
       "    }\n",
       "\n",
       "    .dataframe thead th {\n",
       "        text-align: right;\n",
       "    }\n",
       "</style>\n",
       "<table border=\"1\" class=\"dataframe\">\n",
       "  <thead>\n",
       "    <tr style=\"text-align: right;\">\n",
       "      <th></th>\n",
       "      <th>image</th>\n",
       "      <th>age</th>\n",
       "      <th>gender</th>\n",
       "      <th>race</th>\n",
       "    </tr>\n",
       "  </thead>\n",
       "  <tbody>\n",
       "    <tr>\n",
       "      <th>0</th>\n",
       "      <td>./input/utkface-new/UTKFace/1_0_2_201612191419...</td>\n",
       "      <td>1</td>\n",
       "      <td>0</td>\n",
       "      <td>2</td>\n",
       "    </tr>\n",
       "    <tr>\n",
       "      <th>1</th>\n",
       "      <td>./input/utkface-new/UTKFace/30_0_0_20170117144...</td>\n",
       "      <td>30</td>\n",
       "      <td>0</td>\n",
       "      <td>0</td>\n",
       "    </tr>\n",
       "    <tr>\n",
       "      <th>2</th>\n",
       "      <td>./input/utkface-new/UTKFace/38_1_1_20170113001...</td>\n",
       "      <td>38</td>\n",
       "      <td>1</td>\n",
       "      <td>1</td>\n",
       "    </tr>\n",
       "    <tr>\n",
       "      <th>3</th>\n",
       "      <td>./input/utkface-new/UTKFace/30_0_1_20170104170...</td>\n",
       "      <td>30</td>\n",
       "      <td>0</td>\n",
       "      <td>1</td>\n",
       "    </tr>\n",
       "    <tr>\n",
       "      <th>4</th>\n",
       "      <td>./input/utkface-new/UTKFace/29_1_1_20170112211...</td>\n",
       "      <td>29</td>\n",
       "      <td>1</td>\n",
       "      <td>1</td>\n",
       "    </tr>\n",
       "  </tbody>\n",
       "</table>\n",
       "</div>"
      ],
      "text/plain": [
       "                                               image  age  gender  race\n",
       "0  ./input/utkface-new/UTKFace/1_0_2_201612191419...    1       0     2\n",
       "1  ./input/utkface-new/UTKFace/30_0_0_20170117144...   30       0     0\n",
       "2  ./input/utkface-new/UTKFace/38_1_1_20170113001...   38       1     1\n",
       "3  ./input/utkface-new/UTKFace/30_0_1_20170104170...   30       0     1\n",
       "4  ./input/utkface-new/UTKFace/29_1_1_20170112211...   29       1     1"
      ]
     },
     "execution_count": 6,
     "metadata": {},
     "output_type": "execute_result"
    }
   ],
   "source": [
    "df = pd.DataFrame()\n",
    "df['image'], df['age'], df['gender'], df['race']= image_paths, age_labels, gender_labels, race_labels\n",
    "df.head()"
   ]
  },
  {
   "cell_type": "code",
   "execution_count": 7,
   "id": "cbfa7cd9",
   "metadata": {},
   "outputs": [],
   "source": [
    "def extract_features(images):\n",
    "    features = []\n",
    "    for image in tqdm(images):\n",
    "        img = load_img(image, grayscale=True)\n",
    "        img = img.resize((128, 128), Image.ANTIALIAS)\n",
    "        img = np.array(img)\n",
    "        features.append(img)\n",
    "        \n",
    "    features = np.array(features)\n",
    "    # ignore this step if using RGB\n",
    "    features = features.reshape(len(features), 128, 128, 1)\n",
    "    return features"
   ]
  },
  {
   "cell_type": "code",
   "execution_count": 14,
   "id": "53de2807",
   "metadata": {},
   "outputs": [
    {
     "data": {
      "application/vnd.jupyter.widget-view+json": {
       "model_id": "c8a8831451c944768bbad3bdbff2cdd4",
       "version_major": 2,
       "version_minor": 0
      },
      "text/plain": [
       "  0%|          | 0/16382 [00:00<?, ?it/s]"
      ]
     },
     "metadata": {},
     "output_type": "display_data"
    }
   ],
   "source": [
    "X = extract_features(df['image'])"
   ]
  },
  {
   "cell_type": "code",
   "execution_count": 15,
   "id": "8f27a53b",
   "metadata": {},
   "outputs": [],
   "source": [
    "X = X/255.0\n",
    "y_gender = np.array(df['gender'])\n",
    "y_age = np.array(df['age'])\n",
    "y_race = np.array(df['race'])"
   ]
  },
  {
   "cell_type": "code",
   "execution_count": 19,
   "id": "2d1809c4",
   "metadata": {},
   "outputs": [
    {
     "data": {
      "text/plain": [
       "(100, 128, 128, 1)"
      ]
     },
     "execution_count": 19,
     "metadata": {},
     "output_type": "execute_result"
    }
   ],
   "source": []
  },
  {
   "cell_type": "code",
   "execution_count": 21,
   "id": "e28c84a9",
   "metadata": {},
   "outputs": [
    {
     "name": "stdout",
     "output_type": "stream",
     "text": [
      "4/4 [==============================] - 1s 63ms/step\n"
     ]
    }
   ],
   "source": [
    "result = model_asessment.predict(X[:100])"
   ]
  },
  {
   "cell_type": "code",
   "execution_count": 26,
   "id": "f9642d9d",
   "metadata": {},
   "outputs": [],
   "source": [
    "binary_conf_matrix = tf.math.confusion_matrix(result[0], y_gender[:100])"
   ]
  },
  {
   "cell_type": "code",
   "execution_count": 27,
   "id": "2e412d93",
   "metadata": {},
   "outputs": [
    {
     "data": {
      "text/plain": [
       "<tf.Tensor: shape=(2, 2), dtype=int32, numpy=\n",
       "array([[43, 57],\n",
       "       [ 0,  0]], dtype=int32)>"
      ]
     },
     "execution_count": 27,
     "metadata": {},
     "output_type": "execute_result"
    }
   ],
   "source": [
    "binary_conf_matrix"
   ]
  },
  {
   "cell_type": "code",
   "execution_count": 28,
   "id": "03ac784d",
   "metadata": {},
   "outputs": [],
   "source": [
    "multiclass_conf_matrix = tf.math.confusion_matrix(result[2], y_race[:100])"
   ]
  },
  {
   "cell_type": "code",
   "execution_count": 29,
   "id": "0bb3b823",
   "metadata": {},
   "outputs": [
    {
     "data": {
      "text/plain": [
       "<tf.Tensor: shape=(5, 5), dtype=int32, numpy=\n",
       "array([[34, 24, 14, 15,  9],\n",
       "       [ 1,  1,  1,  1,  0],\n",
       "       [ 0,  0,  0,  0,  0],\n",
       "       [ 0,  0,  0,  0,  0],\n",
       "       [ 0,  0,  0,  0,  0]], dtype=int32)>"
      ]
     },
     "execution_count": 29,
     "metadata": {},
     "output_type": "execute_result"
    }
   ],
   "source": [
    "multiclass_conf_matrix"
   ]
  },
  {
   "cell_type": "code",
   "execution_count": null,
   "id": "99458cc5",
   "metadata": {},
   "outputs": [],
   "source": []
  }
 ],
 "metadata": {
  "kernelspec": {
   "display_name": "Python 3 (ipykernel)",
   "language": "python",
   "name": "python3"
  },
  "language_info": {
   "codemirror_mode": {
    "name": "ipython",
    "version": 3
   },
   "file_extension": ".py",
   "mimetype": "text/x-python",
   "name": "python",
   "nbconvert_exporter": "python",
   "pygments_lexer": "ipython3",
   "version": "3.8.10"
  }
 },
 "nbformat": 4,
 "nbformat_minor": 5
}
