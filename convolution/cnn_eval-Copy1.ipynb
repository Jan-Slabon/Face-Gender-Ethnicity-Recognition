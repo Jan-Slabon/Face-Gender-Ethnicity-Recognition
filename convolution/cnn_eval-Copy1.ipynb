{
 "cells": [
  {
   "cell_type": "code",
   "execution_count": 1,
   "id": "bc060476",
   "metadata": {},
   "outputs": [
    {
     "name": "stderr",
     "output_type": "stream",
     "text": [
      "2022-06-26 12:03:12.691409: W tensorflow/stream_executor/platform/default/dso_loader.cc:64] Could not load dynamic library 'libcudart.so.11.0'; dlerror: libcudart.so.11.0: cannot open shared object file: No such file or directory\n",
      "2022-06-26 12:03:12.691433: I tensorflow/stream_executor/cuda/cudart_stub.cc:29] Ignore above cudart dlerror if you do not have a GPU set up on your machine.\n"
     ]
    }
   ],
   "source": [
    "import pandas as pd\n",
    "import numpy as np\n",
    "import os\n",
    "import matplotlib.pyplot as plt\n",
    "import seaborn as sns\n",
    "import warnings\n",
    "from tqdm.notebook import tqdm\n",
    "warnings.filterwarnings('ignore')\n",
    "%matplotlib inline\n",
    "from PIL import Image\n",
    "import tensorflow as tf\n",
    "from tensorflow.keras.utils import load_img\n",
    "from sklearn.svm import SVC\n",
    "from sklearn.model_selection import StratifiedKFold, GridSearchCV\n",
    "from sklearn.preprocessing import StandardScaler\n",
    "from sklearn.pipeline import Pipeline"
   ]
  },
  {
   "cell_type": "code",
   "execution_count": null,
   "id": "cc29dcc0",
   "metadata": {},
   "outputs": [],
   "source": []
  },
  {
   "cell_type": "code",
   "execution_count": 2,
   "id": "7e4ad562",
   "metadata": {},
   "outputs": [
    {
     "data": {
      "application/vnd.jupyter.widget-view+json": {
       "model_id": "98a3df6681124205bd04d8ac68b0ea56",
       "version_major": 2,
       "version_minor": 0
      },
      "text/plain": [
       "  0%|          | 0/16383 [00:00<?, ?it/s]"
      ]
     },
     "metadata": {},
     "output_type": "display_data"
    }
   ],
   "source": [
    "BASE_DIR = './input/utkface-new/UTKFace/'\n",
    "\n",
    "image_paths = []\n",
    "age_labels = []\n",
    "gender_labels = []\n",
    "race_labels = []\n",
    "\n",
    "for filename in tqdm(os.listdir(BASE_DIR)):\n",
    "    image_path = os.path.join(BASE_DIR, filename)\n",
    "    temp = filename.split('_')\n",
    "    if len(temp) == 4:\n",
    "        age = int(temp[0])\n",
    "        gender = int(temp[1])\n",
    "        race = int(temp[2])\n",
    "        image_paths.append(image_path)\n",
    "        age_labels.append(age)\n",
    "        gender_labels.append(gender)\n",
    "        race_labels.append(race)"
   ]
  },
  {
   "cell_type": "code",
   "execution_count": 78,
   "id": "a483a24d",
   "metadata": {},
   "outputs": [],
   "source": [
    "df = pd.DataFrame()\n",
    "df['image'], df['age'], df['gender'], df['race']= image_paths, age_labels, gender_labels, race_labels\n",
    "df = df.sample(n=3000, random_state = 123)"
   ]
  },
  {
   "cell_type": "code",
   "execution_count": 79,
   "id": "cbfa7cd9",
   "metadata": {},
   "outputs": [],
   "source": [
    "def extract_features(images):\n",
    "    features = []\n",
    "    i=0\n",
    "    for image in tqdm(images):\n",
    "        img = load_img(image, grayscale=True)\n",
    "        img = img.resize((32, 32), Image.ANTIALIAS)\n",
    "        img = np.array(img)\n",
    "        features.append(img)\n",
    "        \n",
    "    features = np.array(features)\n",
    "    # ignore this step if using RGB\n",
    "    features = features.reshape(len(features), 1024)\n",
    "    return features"
   ]
  },
  {
   "cell_type": "code",
   "execution_count": 80,
   "id": "53de2807",
   "metadata": {},
   "outputs": [
    {
     "data": {
      "application/vnd.jupyter.widget-view+json": {
       "model_id": "e8c4ceedf1bc47f69574b9e047ff4e53",
       "version_major": 2,
       "version_minor": 0
      },
      "text/plain": [
       "  0%|          | 0/3000 [00:00<?, ?it/s]"
      ]
     },
     "metadata": {},
     "output_type": "display_data"
    }
   ],
   "source": [
    "X = extract_features(df['image'])"
   ]
  },
  {
   "cell_type": "code",
   "execution_count": 81,
   "id": "8f27a53b",
   "metadata": {},
   "outputs": [],
   "source": [
    "X = X/255.0\n",
    "y_gender = np.array(df['gender'])"
   ]
  },
  {
   "cell_type": "code",
   "execution_count": 82,
   "id": "99458cc5",
   "metadata": {},
   "outputs": [],
   "source": [
    "pipe = Pipeline([('preprocessing', StandardScaler()), ('classifier',SVC())])\n",
    "kfold = StratifiedKFold(n_splits=5, random_state = 123, shuffle = True)"
   ]
  },
  {
   "cell_type": "code",
   "execution_count": 83,
   "id": "8b827658",
   "metadata": {},
   "outputs": [],
   "source": [
    "param_grid = {\n",
    "    'classifier__gamma' : [0.0001 ,0.001, 1],\n",
    "    'classifier__C': [1,10,100]\n",
    "}\n",
    "grid = GridSearchCV(pipe, param_grid,verbose = 4, cv=kfold, return_train_score = True)"
   ]
  },
  {
   "cell_type": "code",
   "execution_count": 84,
   "id": "4933724e",
   "metadata": {},
   "outputs": [
    {
     "name": "stdout",
     "output_type": "stream",
     "text": [
      "Fitting 5 folds for each of 9 candidates, totalling 45 fits\n",
      "[CV 1/5] END classifier__C=1, classifier__gamma=0.0001;, score=(train=0.826, test=0.833) total time=   2.6s\n",
      "[CV 2/5] END classifier__C=1, classifier__gamma=0.0001;, score=(train=0.833, test=0.807) total time=   2.5s\n",
      "[CV 3/5] END classifier__C=1, classifier__gamma=0.0001;, score=(train=0.826, test=0.807) total time=   2.5s\n",
      "[CV 4/5] END classifier__C=1, classifier__gamma=0.0001;, score=(train=0.822, test=0.823) total time=   2.6s\n",
      "[CV 5/5] END classifier__C=1, classifier__gamma=0.0001;, score=(train=0.833, test=0.808) total time=   2.5s\n",
      "[CV 1/5] END classifier__C=1, classifier__gamma=0.001;, score=(train=0.927, test=0.853) total time=   2.4s\n",
      "[CV 2/5] END classifier__C=1, classifier__gamma=0.001;, score=(train=0.927, test=0.822) total time=   2.4s\n",
      "[CV 3/5] END classifier__C=1, classifier__gamma=0.001;, score=(train=0.925, test=0.823) total time=   2.4s\n",
      "[CV 4/5] END classifier__C=1, classifier__gamma=0.001;, score=(train=0.925, test=0.838) total time=   2.5s\n",
      "[CV 5/5] END classifier__C=1, classifier__gamma=0.001;, score=(train=0.923, test=0.832) total time=   2.4s\n",
      "[CV 1/5] END classifier__C=1, classifier__gamma=1;, score=(train=1.000, test=0.508) total time=   3.7s\n",
      "[CV 2/5] END classifier__C=1, classifier__gamma=1;, score=(train=1.000, test=0.512) total time=   3.7s\n",
      "[CV 3/5] END classifier__C=1, classifier__gamma=1;, score=(train=0.999, test=0.510) total time=   3.7s\n",
      "[CV 4/5] END classifier__C=1, classifier__gamma=1;, score=(train=0.999, test=0.510) total time=   3.6s\n",
      "[CV 5/5] END classifier__C=1, classifier__gamma=1;, score=(train=0.999, test=0.513) total time=   3.6s\n",
      "[CV 1/5] END classifier__C=10, classifier__gamma=0.0001;, score=(train=0.900, test=0.865) total time=   1.9s\n",
      "[CV 2/5] END classifier__C=10, classifier__gamma=0.0001;, score=(train=0.897, test=0.837) total time=   1.8s\n",
      "[CV 3/5] END classifier__C=10, classifier__gamma=0.0001;, score=(train=0.897, test=0.837) total time=   1.9s\n",
      "[CV 4/5] END classifier__C=10, classifier__gamma=0.0001;, score=(train=0.894, test=0.865) total time=   1.9s\n",
      "[CV 5/5] END classifier__C=10, classifier__gamma=0.0001;, score=(train=0.894, test=0.843) total time=   1.8s\n",
      "[CV 1/5] END classifier__C=10, classifier__gamma=0.001;, score=(train=0.998, test=0.838) total time=   2.8s\n",
      "[CV 2/5] END classifier__C=10, classifier__gamma=0.001;, score=(train=0.998, test=0.840) total time=   2.8s\n",
      "[CV 3/5] END classifier__C=10, classifier__gamma=0.001;, score=(train=0.996, test=0.845) total time=   2.8s\n",
      "[CV 4/5] END classifier__C=10, classifier__gamma=0.001;, score=(train=0.997, test=0.852) total time=   2.8s\n",
      "[CV 5/5] END classifier__C=10, classifier__gamma=0.001;, score=(train=0.997, test=0.823) total time=   2.8s\n",
      "[CV 1/5] END classifier__C=10, classifier__gamma=1;, score=(train=1.000, test=0.510) total time=   3.7s\n",
      "[CV 2/5] END classifier__C=10, classifier__gamma=1;, score=(train=1.000, test=0.512) total time=   3.6s\n",
      "[CV 3/5] END classifier__C=10, classifier__gamma=1;, score=(train=0.999, test=0.512) total time=   3.6s\n",
      "[CV 4/5] END classifier__C=10, classifier__gamma=1;, score=(train=0.999, test=0.510) total time=   3.7s\n",
      "[CV 5/5] END classifier__C=10, classifier__gamma=1;, score=(train=0.999, test=0.513) total time=   3.7s\n",
      "[CV 1/5] END classifier__C=100, classifier__gamma=0.0001;, score=(train=0.968, test=0.828) total time=   1.8s\n",
      "[CV 2/5] END classifier__C=100, classifier__gamma=0.0001;, score=(train=0.961, test=0.840) total time=   1.8s\n",
      "[CV 3/5] END classifier__C=100, classifier__gamma=0.0001;, score=(train=0.968, test=0.818) total time=   1.8s\n",
      "[CV 4/5] END classifier__C=100, classifier__gamma=0.0001;, score=(train=0.962, test=0.872) total time=   1.8s\n",
      "[CV 5/5] END classifier__C=100, classifier__gamma=0.0001;, score=(train=0.962, test=0.817) total time=   1.7s\n",
      "[CV 1/5] END classifier__C=100, classifier__gamma=0.001;, score=(train=1.000, test=0.838) total time=   2.9s\n",
      "[CV 2/5] END classifier__C=100, classifier__gamma=0.001;, score=(train=1.000, test=0.833) total time=   2.8s\n",
      "[CV 3/5] END classifier__C=100, classifier__gamma=0.001;, score=(train=0.999, test=0.825) total time=   2.8s\n",
      "[CV 4/5] END classifier__C=100, classifier__gamma=0.001;, score=(train=0.999, test=0.843) total time=   2.9s\n",
      "[CV 5/5] END classifier__C=100, classifier__gamma=0.001;, score=(train=0.999, test=0.820) total time=   2.8s\n",
      "[CV 1/5] END classifier__C=100, classifier__gamma=1;, score=(train=1.000, test=0.510) total time=   3.7s\n",
      "[CV 2/5] END classifier__C=100, classifier__gamma=1;, score=(train=1.000, test=0.512) total time=   3.6s\n",
      "[CV 3/5] END classifier__C=100, classifier__gamma=1;, score=(train=0.999, test=0.512) total time=   3.6s\n",
      "[CV 4/5] END classifier__C=100, classifier__gamma=1;, score=(train=0.999, test=0.510) total time=   3.7s\n",
      "[CV 5/5] END classifier__C=100, classifier__gamma=1;, score=(train=0.999, test=0.513) total time=   3.8s\n"
     ]
    },
    {
     "data": {
      "text/html": [
       "<style>#sk-container-id-5 {color: black;background-color: white;}#sk-container-id-5 pre{padding: 0;}#sk-container-id-5 div.sk-toggleable {background-color: white;}#sk-container-id-5 label.sk-toggleable__label {cursor: pointer;display: block;width: 100%;margin-bottom: 0;padding: 0.3em;box-sizing: border-box;text-align: center;}#sk-container-id-5 label.sk-toggleable__label-arrow:before {content: \"▸\";float: left;margin-right: 0.25em;color: #696969;}#sk-container-id-5 label.sk-toggleable__label-arrow:hover:before {color: black;}#sk-container-id-5 div.sk-estimator:hover label.sk-toggleable__label-arrow:before {color: black;}#sk-container-id-5 div.sk-toggleable__content {max-height: 0;max-width: 0;overflow: hidden;text-align: left;background-color: #f0f8ff;}#sk-container-id-5 div.sk-toggleable__content pre {margin: 0.2em;color: black;border-radius: 0.25em;background-color: #f0f8ff;}#sk-container-id-5 input.sk-toggleable__control:checked~div.sk-toggleable__content {max-height: 200px;max-width: 100%;overflow: auto;}#sk-container-id-5 input.sk-toggleable__control:checked~label.sk-toggleable__label-arrow:before {content: \"▾\";}#sk-container-id-5 div.sk-estimator input.sk-toggleable__control:checked~label.sk-toggleable__label {background-color: #d4ebff;}#sk-container-id-5 div.sk-label input.sk-toggleable__control:checked~label.sk-toggleable__label {background-color: #d4ebff;}#sk-container-id-5 input.sk-hidden--visually {border: 0;clip: rect(1px 1px 1px 1px);clip: rect(1px, 1px, 1px, 1px);height: 1px;margin: -1px;overflow: hidden;padding: 0;position: absolute;width: 1px;}#sk-container-id-5 div.sk-estimator {font-family: monospace;background-color: #f0f8ff;border: 1px dotted black;border-radius: 0.25em;box-sizing: border-box;margin-bottom: 0.5em;}#sk-container-id-5 div.sk-estimator:hover {background-color: #d4ebff;}#sk-container-id-5 div.sk-parallel-item::after {content: \"\";width: 100%;border-bottom: 1px solid gray;flex-grow: 1;}#sk-container-id-5 div.sk-label:hover label.sk-toggleable__label {background-color: #d4ebff;}#sk-container-id-5 div.sk-serial::before {content: \"\";position: absolute;border-left: 1px solid gray;box-sizing: border-box;top: 0;bottom: 0;left: 50%;z-index: 0;}#sk-container-id-5 div.sk-serial {display: flex;flex-direction: column;align-items: center;background-color: white;padding-right: 0.2em;padding-left: 0.2em;position: relative;}#sk-container-id-5 div.sk-item {position: relative;z-index: 1;}#sk-container-id-5 div.sk-parallel {display: flex;align-items: stretch;justify-content: center;background-color: white;position: relative;}#sk-container-id-5 div.sk-item::before, #sk-container-id-5 div.sk-parallel-item::before {content: \"\";position: absolute;border-left: 1px solid gray;box-sizing: border-box;top: 0;bottom: 0;left: 50%;z-index: -1;}#sk-container-id-5 div.sk-parallel-item {display: flex;flex-direction: column;z-index: 1;position: relative;background-color: white;}#sk-container-id-5 div.sk-parallel-item:first-child::after {align-self: flex-end;width: 50%;}#sk-container-id-5 div.sk-parallel-item:last-child::after {align-self: flex-start;width: 50%;}#sk-container-id-5 div.sk-parallel-item:only-child::after {width: 0;}#sk-container-id-5 div.sk-dashed-wrapped {border: 1px dashed gray;margin: 0 0.4em 0.5em 0.4em;box-sizing: border-box;padding-bottom: 0.4em;background-color: white;}#sk-container-id-5 div.sk-label label {font-family: monospace;font-weight: bold;display: inline-block;line-height: 1.2em;}#sk-container-id-5 div.sk-label-container {text-align: center;}#sk-container-id-5 div.sk-container {/* jupyter's `normalize.less` sets `[hidden] { display: none; }` but bootstrap.min.css set `[hidden] { display: none !important; }` so we also need the `!important` here to be able to override the default hidden behavior on the sphinx rendered scikit-learn.org. See: https://github.com/scikit-learn/scikit-learn/issues/21755 */display: inline-block !important;position: relative;}#sk-container-id-5 div.sk-text-repr-fallback {display: none;}</style><div id=\"sk-container-id-5\" class=\"sk-top-container\"><div class=\"sk-text-repr-fallback\"><pre>GridSearchCV(cv=StratifiedKFold(n_splits=5, random_state=123, shuffle=True),\n",
       "             estimator=Pipeline(steps=[(&#x27;preprocessing&#x27;, StandardScaler()),\n",
       "                                       (&#x27;classifier&#x27;, SVC())]),\n",
       "             param_grid={&#x27;classifier__C&#x27;: [1, 10, 100],\n",
       "                         &#x27;classifier__gamma&#x27;: [0.0001, 0.001, 1]},\n",
       "             return_train_score=True, verbose=4)</pre><b>In a Jupyter environment, please rerun this cell to show the HTML representation or trust the notebook. <br />On GitHub, the HTML representation is unable to render, please try loading this page with nbviewer.org.</b></div><div class=\"sk-container\" hidden><div class=\"sk-item sk-dashed-wrapped\"><div class=\"sk-label-container\"><div class=\"sk-label sk-toggleable\"><input class=\"sk-toggleable__control sk-hidden--visually\" id=\"sk-estimator-id-17\" type=\"checkbox\" ><label for=\"sk-estimator-id-17\" class=\"sk-toggleable__label sk-toggleable__label-arrow\">GridSearchCV</label><div class=\"sk-toggleable__content\"><pre>GridSearchCV(cv=StratifiedKFold(n_splits=5, random_state=123, shuffle=True),\n",
       "             estimator=Pipeline(steps=[(&#x27;preprocessing&#x27;, StandardScaler()),\n",
       "                                       (&#x27;classifier&#x27;, SVC())]),\n",
       "             param_grid={&#x27;classifier__C&#x27;: [1, 10, 100],\n",
       "                         &#x27;classifier__gamma&#x27;: [0.0001, 0.001, 1]},\n",
       "             return_train_score=True, verbose=4)</pre></div></div></div><div class=\"sk-parallel\"><div class=\"sk-parallel-item\"><div class=\"sk-item\"><div class=\"sk-label-container\"><div class=\"sk-label sk-toggleable\"><input class=\"sk-toggleable__control sk-hidden--visually\" id=\"sk-estimator-id-18\" type=\"checkbox\" ><label for=\"sk-estimator-id-18\" class=\"sk-toggleable__label sk-toggleable__label-arrow\">estimator: Pipeline</label><div class=\"sk-toggleable__content\"><pre>Pipeline(steps=[(&#x27;preprocessing&#x27;, StandardScaler()), (&#x27;classifier&#x27;, SVC())])</pre></div></div></div><div class=\"sk-serial\"><div class=\"sk-item\"><div class=\"sk-serial\"><div class=\"sk-item\"><div class=\"sk-estimator sk-toggleable\"><input class=\"sk-toggleable__control sk-hidden--visually\" id=\"sk-estimator-id-19\" type=\"checkbox\" ><label for=\"sk-estimator-id-19\" class=\"sk-toggleable__label sk-toggleable__label-arrow\">StandardScaler</label><div class=\"sk-toggleable__content\"><pre>StandardScaler()</pre></div></div></div><div class=\"sk-item\"><div class=\"sk-estimator sk-toggleable\"><input class=\"sk-toggleable__control sk-hidden--visually\" id=\"sk-estimator-id-20\" type=\"checkbox\" ><label for=\"sk-estimator-id-20\" class=\"sk-toggleable__label sk-toggleable__label-arrow\">SVC</label><div class=\"sk-toggleable__content\"><pre>SVC()</pre></div></div></div></div></div></div></div></div></div></div></div></div>"
      ],
      "text/plain": [
       "GridSearchCV(cv=StratifiedKFold(n_splits=5, random_state=123, shuffle=True),\n",
       "             estimator=Pipeline(steps=[('preprocessing', StandardScaler()),\n",
       "                                       ('classifier', SVC())]),\n",
       "             param_grid={'classifier__C': [1, 10, 100],\n",
       "                         'classifier__gamma': [0.0001, 0.001, 1]},\n",
       "             return_train_score=True, verbose=4)"
      ]
     },
     "execution_count": 84,
     "metadata": {},
     "output_type": "execute_result"
    }
   ],
   "source": [
    "grid.fit(X, y_gender)"
   ]
  },
  {
   "cell_type": "code",
   "execution_count": 85,
   "id": "3dc3b614",
   "metadata": {},
   "outputs": [
    {
     "data": {
      "text/plain": [
       "{'classifier__C': 10, 'classifier__gamma': 0.0001}"
      ]
     },
     "execution_count": 85,
     "metadata": {},
     "output_type": "execute_result"
    }
   ],
   "source": [
    "grid.best_params_"
   ]
  },
  {
   "cell_type": "code",
   "execution_count": 86,
   "id": "dcec0444",
   "metadata": {},
   "outputs": [],
   "source": [
    "def heatmap(values, xlabel, ylabel, xticklabels, yticklabels, cmap=None,\n",
    "            vmin=None, vmax=None, ax=None, fmt=\"%0.2f\"):\n",
    "    if ax is None:\n",
    "        ax = plt.gca()\n",
    "    # plot the mean cross-validation scores\n",
    "    img = ax.pcolor(values, cmap=cmap, vmin=vmin, vmax=vmax)\n",
    "    img.update_scalarmappable()\n",
    "    ax.set_xlabel(xlabel)\n",
    "    ax.set_ylabel(ylabel)\n",
    "    ax.set_xticks(np.arange(len(xticklabels)) + .5)\n",
    "    ax.set_yticks(np.arange(len(yticklabels)) + .5)\n",
    "    ax.set_xticklabels(xticklabels)\n",
    "    ax.set_yticklabels(yticklabels)\n",
    "    ax.set_aspect(1)\n",
    "\n",
    "    for p, color, value in zip(img.get_paths(), img.get_facecolors(),\n",
    "                               img.get_array()):\n",
    "        x, y = p.vertices[:-2, :].mean(0)\n",
    "        if np.mean(color[:3]) > 0.5:\n",
    "            c = 'k'\n",
    "        else:\n",
    "            c = 'w'\n",
    "        ax.text(x, y, fmt % value, color=c, ha=\"center\", va=\"center\")\n",
    "    return img"
   ]
  },
  {
   "cell_type": "code",
   "execution_count": 87,
   "id": "d2c98775",
   "metadata": {},
   "outputs": [
    {
     "data": {
      "text/html": [
       "<div>\n",
       "<style scoped>\n",
       "    .dataframe tbody tr th:only-of-type {\n",
       "        vertical-align: middle;\n",
       "    }\n",
       "\n",
       "    .dataframe tbody tr th {\n",
       "        vertical-align: top;\n",
       "    }\n",
       "\n",
       "    .dataframe thead th {\n",
       "        text-align: right;\n",
       "    }\n",
       "</style>\n",
       "<table border=\"1\" class=\"dataframe\">\n",
       "  <thead>\n",
       "    <tr style=\"text-align: right;\">\n",
       "      <th></th>\n",
       "      <th>mean_fit_time</th>\n",
       "      <th>std_fit_time</th>\n",
       "      <th>mean_score_time</th>\n",
       "      <th>std_score_time</th>\n",
       "      <th>param_classifier__C</th>\n",
       "      <th>param_classifier__gamma</th>\n",
       "      <th>params</th>\n",
       "      <th>split0_test_score</th>\n",
       "      <th>split1_test_score</th>\n",
       "      <th>split2_test_score</th>\n",
       "      <th>...</th>\n",
       "      <th>mean_test_score</th>\n",
       "      <th>std_test_score</th>\n",
       "      <th>rank_test_score</th>\n",
       "      <th>split0_train_score</th>\n",
       "      <th>split1_train_score</th>\n",
       "      <th>split2_train_score</th>\n",
       "      <th>split3_train_score</th>\n",
       "      <th>split4_train_score</th>\n",
       "      <th>mean_train_score</th>\n",
       "      <th>std_train_score</th>\n",
       "    </tr>\n",
       "  </thead>\n",
       "  <tbody>\n",
       "    <tr>\n",
       "      <th>0</th>\n",
       "      <td>1.876845</td>\n",
       "      <td>0.078982</td>\n",
       "      <td>0.653894</td>\n",
       "      <td>0.010198</td>\n",
       "      <td>1</td>\n",
       "      <td>0.0001</td>\n",
       "      <td>{'classifier__C': 1, 'classifier__gamma': 0.0001}</td>\n",
       "      <td>0.833333</td>\n",
       "      <td>0.806667</td>\n",
       "      <td>0.806667</td>\n",
       "      <td>...</td>\n",
       "      <td>0.815667</td>\n",
       "      <td>0.010832</td>\n",
       "      <td>6</td>\n",
       "      <td>0.825833</td>\n",
       "      <td>0.832500</td>\n",
       "      <td>0.825833</td>\n",
       "      <td>0.821667</td>\n",
       "      <td>0.833333</td>\n",
       "      <td>0.827833</td>\n",
       "      <td>0.004428</td>\n",
       "    </tr>\n",
       "    <tr>\n",
       "      <th>1</th>\n",
       "      <td>1.736052</td>\n",
       "      <td>0.029082</td>\n",
       "      <td>0.692345</td>\n",
       "      <td>0.012454</td>\n",
       "      <td>1</td>\n",
       "      <td>0.001</td>\n",
       "      <td>{'classifier__C': 1, 'classifier__gamma': 0.001}</td>\n",
       "      <td>0.853333</td>\n",
       "      <td>0.821667</td>\n",
       "      <td>0.823333</td>\n",
       "      <td>...</td>\n",
       "      <td>0.833667</td>\n",
       "      <td>0.011518</td>\n",
       "      <td>4</td>\n",
       "      <td>0.926667</td>\n",
       "      <td>0.926667</td>\n",
       "      <td>0.924583</td>\n",
       "      <td>0.925417</td>\n",
       "      <td>0.923333</td>\n",
       "      <td>0.925333</td>\n",
       "      <td>0.001275</td>\n",
       "    </tr>\n",
       "    <tr>\n",
       "      <th>2</th>\n",
       "      <td>2.674521</td>\n",
       "      <td>0.027545</td>\n",
       "      <td>0.981744</td>\n",
       "      <td>0.007919</td>\n",
       "      <td>1</td>\n",
       "      <td>1</td>\n",
       "      <td>{'classifier__C': 1, 'classifier__gamma': 1}</td>\n",
       "      <td>0.508333</td>\n",
       "      <td>0.511667</td>\n",
       "      <td>0.510000</td>\n",
       "      <td>...</td>\n",
       "      <td>0.510667</td>\n",
       "      <td>0.001700</td>\n",
       "      <td>9</td>\n",
       "      <td>0.999583</td>\n",
       "      <td>0.999583</td>\n",
       "      <td>0.998750</td>\n",
       "      <td>0.998750</td>\n",
       "      <td>0.998750</td>\n",
       "      <td>0.999083</td>\n",
       "      <td>0.000408</td>\n",
       "    </tr>\n",
       "    <tr>\n",
       "      <th>3</th>\n",
       "      <td>1.359020</td>\n",
       "      <td>0.018690</td>\n",
       "      <td>0.489186</td>\n",
       "      <td>0.028537</td>\n",
       "      <td>10</td>\n",
       "      <td>0.0001</td>\n",
       "      <td>{'classifier__C': 10, 'classifier__gamma': 0.0...</td>\n",
       "      <td>0.865000</td>\n",
       "      <td>0.836667</td>\n",
       "      <td>0.836667</td>\n",
       "      <td>...</td>\n",
       "      <td>0.849333</td>\n",
       "      <td>0.013021</td>\n",
       "      <td>1</td>\n",
       "      <td>0.899583</td>\n",
       "      <td>0.897500</td>\n",
       "      <td>0.896667</td>\n",
       "      <td>0.893750</td>\n",
       "      <td>0.893750</td>\n",
       "      <td>0.896250</td>\n",
       "      <td>0.002252</td>\n",
       "    </tr>\n",
       "    <tr>\n",
       "      <th>4</th>\n",
       "      <td>2.161496</td>\n",
       "      <td>0.021427</td>\n",
       "      <td>0.654910</td>\n",
       "      <td>0.006192</td>\n",
       "      <td>10</td>\n",
       "      <td>0.001</td>\n",
       "      <td>{'classifier__C': 10, 'classifier__gamma': 0.001}</td>\n",
       "      <td>0.838333</td>\n",
       "      <td>0.840000</td>\n",
       "      <td>0.845000</td>\n",
       "      <td>...</td>\n",
       "      <td>0.839667</td>\n",
       "      <td>0.009393</td>\n",
       "      <td>2</td>\n",
       "      <td>0.997917</td>\n",
       "      <td>0.998333</td>\n",
       "      <td>0.996250</td>\n",
       "      <td>0.996667</td>\n",
       "      <td>0.997083</td>\n",
       "      <td>0.997250</td>\n",
       "      <td>0.000773</td>\n",
       "    </tr>\n",
       "    <tr>\n",
       "      <th>5</th>\n",
       "      <td>2.651853</td>\n",
       "      <td>0.001172</td>\n",
       "      <td>1.027628</td>\n",
       "      <td>0.050754</td>\n",
       "      <td>10</td>\n",
       "      <td>1</td>\n",
       "      <td>{'classifier__C': 10, 'classifier__gamma': 1}</td>\n",
       "      <td>0.510000</td>\n",
       "      <td>0.511667</td>\n",
       "      <td>0.511667</td>\n",
       "      <td>...</td>\n",
       "      <td>0.511333</td>\n",
       "      <td>0.001247</td>\n",
       "      <td>7</td>\n",
       "      <td>0.999583</td>\n",
       "      <td>0.999583</td>\n",
       "      <td>0.998750</td>\n",
       "      <td>0.998750</td>\n",
       "      <td>0.998750</td>\n",
       "      <td>0.999083</td>\n",
       "      <td>0.000408</td>\n",
       "    </tr>\n",
       "    <tr>\n",
       "      <th>6</th>\n",
       "      <td>1.375356</td>\n",
       "      <td>0.011079</td>\n",
       "      <td>0.422906</td>\n",
       "      <td>0.024423</td>\n",
       "      <td>100</td>\n",
       "      <td>0.0001</td>\n",
       "      <td>{'classifier__C': 100, 'classifier__gamma': 0....</td>\n",
       "      <td>0.828333</td>\n",
       "      <td>0.840000</td>\n",
       "      <td>0.818333</td>\n",
       "      <td>...</td>\n",
       "      <td>0.835000</td>\n",
       "      <td>0.020138</td>\n",
       "      <td>3</td>\n",
       "      <td>0.967500</td>\n",
       "      <td>0.961250</td>\n",
       "      <td>0.968333</td>\n",
       "      <td>0.961667</td>\n",
       "      <td>0.962083</td>\n",
       "      <td>0.964167</td>\n",
       "      <td>0.003084</td>\n",
       "    </tr>\n",
       "    <tr>\n",
       "      <th>7</th>\n",
       "      <td>2.188205</td>\n",
       "      <td>0.012032</td>\n",
       "      <td>0.652980</td>\n",
       "      <td>0.005100</td>\n",
       "      <td>100</td>\n",
       "      <td>0.001</td>\n",
       "      <td>{'classifier__C': 100, 'classifier__gamma': 0....</td>\n",
       "      <td>0.838333</td>\n",
       "      <td>0.833333</td>\n",
       "      <td>0.825000</td>\n",
       "      <td>...</td>\n",
       "      <td>0.832000</td>\n",
       "      <td>0.008524</td>\n",
       "      <td>5</td>\n",
       "      <td>0.999583</td>\n",
       "      <td>0.999583</td>\n",
       "      <td>0.998750</td>\n",
       "      <td>0.998750</td>\n",
       "      <td>0.998750</td>\n",
       "      <td>0.999083</td>\n",
       "      <td>0.000408</td>\n",
       "    </tr>\n",
       "    <tr>\n",
       "      <th>8</th>\n",
       "      <td>2.655825</td>\n",
       "      <td>0.009634</td>\n",
       "      <td>1.028053</td>\n",
       "      <td>0.050860</td>\n",
       "      <td>100</td>\n",
       "      <td>1</td>\n",
       "      <td>{'classifier__C': 100, 'classifier__gamma': 1}</td>\n",
       "      <td>0.510000</td>\n",
       "      <td>0.511667</td>\n",
       "      <td>0.511667</td>\n",
       "      <td>...</td>\n",
       "      <td>0.511333</td>\n",
       "      <td>0.001247</td>\n",
       "      <td>7</td>\n",
       "      <td>0.999583</td>\n",
       "      <td>0.999583</td>\n",
       "      <td>0.998750</td>\n",
       "      <td>0.998750</td>\n",
       "      <td>0.998750</td>\n",
       "      <td>0.999083</td>\n",
       "      <td>0.000408</td>\n",
       "    </tr>\n",
       "  </tbody>\n",
       "</table>\n",
       "<p>9 rows × 22 columns</p>\n",
       "</div>"
      ],
      "text/plain": [
       "   mean_fit_time  std_fit_time  mean_score_time  std_score_time  \\\n",
       "0       1.876845      0.078982         0.653894        0.010198   \n",
       "1       1.736052      0.029082         0.692345        0.012454   \n",
       "2       2.674521      0.027545         0.981744        0.007919   \n",
       "3       1.359020      0.018690         0.489186        0.028537   \n",
       "4       2.161496      0.021427         0.654910        0.006192   \n",
       "5       2.651853      0.001172         1.027628        0.050754   \n",
       "6       1.375356      0.011079         0.422906        0.024423   \n",
       "7       2.188205      0.012032         0.652980        0.005100   \n",
       "8       2.655825      0.009634         1.028053        0.050860   \n",
       "\n",
       "  param_classifier__C param_classifier__gamma  \\\n",
       "0                   1                  0.0001   \n",
       "1                   1                   0.001   \n",
       "2                   1                       1   \n",
       "3                  10                  0.0001   \n",
       "4                  10                   0.001   \n",
       "5                  10                       1   \n",
       "6                 100                  0.0001   \n",
       "7                 100                   0.001   \n",
       "8                 100                       1   \n",
       "\n",
       "                                              params  split0_test_score  \\\n",
       "0  {'classifier__C': 1, 'classifier__gamma': 0.0001}           0.833333   \n",
       "1   {'classifier__C': 1, 'classifier__gamma': 0.001}           0.853333   \n",
       "2       {'classifier__C': 1, 'classifier__gamma': 1}           0.508333   \n",
       "3  {'classifier__C': 10, 'classifier__gamma': 0.0...           0.865000   \n",
       "4  {'classifier__C': 10, 'classifier__gamma': 0.001}           0.838333   \n",
       "5      {'classifier__C': 10, 'classifier__gamma': 1}           0.510000   \n",
       "6  {'classifier__C': 100, 'classifier__gamma': 0....           0.828333   \n",
       "7  {'classifier__C': 100, 'classifier__gamma': 0....           0.838333   \n",
       "8     {'classifier__C': 100, 'classifier__gamma': 1}           0.510000   \n",
       "\n",
       "   split1_test_score  split2_test_score  ...  mean_test_score  std_test_score  \\\n",
       "0           0.806667           0.806667  ...         0.815667        0.010832   \n",
       "1           0.821667           0.823333  ...         0.833667        0.011518   \n",
       "2           0.511667           0.510000  ...         0.510667        0.001700   \n",
       "3           0.836667           0.836667  ...         0.849333        0.013021   \n",
       "4           0.840000           0.845000  ...         0.839667        0.009393   \n",
       "5           0.511667           0.511667  ...         0.511333        0.001247   \n",
       "6           0.840000           0.818333  ...         0.835000        0.020138   \n",
       "7           0.833333           0.825000  ...         0.832000        0.008524   \n",
       "8           0.511667           0.511667  ...         0.511333        0.001247   \n",
       "\n",
       "   rank_test_score  split0_train_score  split1_train_score  \\\n",
       "0                6            0.825833            0.832500   \n",
       "1                4            0.926667            0.926667   \n",
       "2                9            0.999583            0.999583   \n",
       "3                1            0.899583            0.897500   \n",
       "4                2            0.997917            0.998333   \n",
       "5                7            0.999583            0.999583   \n",
       "6                3            0.967500            0.961250   \n",
       "7                5            0.999583            0.999583   \n",
       "8                7            0.999583            0.999583   \n",
       "\n",
       "   split2_train_score  split3_train_score  split4_train_score  \\\n",
       "0            0.825833            0.821667            0.833333   \n",
       "1            0.924583            0.925417            0.923333   \n",
       "2            0.998750            0.998750            0.998750   \n",
       "3            0.896667            0.893750            0.893750   \n",
       "4            0.996250            0.996667            0.997083   \n",
       "5            0.998750            0.998750            0.998750   \n",
       "6            0.968333            0.961667            0.962083   \n",
       "7            0.998750            0.998750            0.998750   \n",
       "8            0.998750            0.998750            0.998750   \n",
       "\n",
       "   mean_train_score  std_train_score  \n",
       "0          0.827833         0.004428  \n",
       "1          0.925333         0.001275  \n",
       "2          0.999083         0.000408  \n",
       "3          0.896250         0.002252  \n",
       "4          0.997250         0.000773  \n",
       "5          0.999083         0.000408  \n",
       "6          0.964167         0.003084  \n",
       "7          0.999083         0.000408  \n",
       "8          0.999083         0.000408  \n",
       "\n",
       "[9 rows x 22 columns]"
      ]
     },
     "execution_count": 87,
     "metadata": {},
     "output_type": "execute_result"
    }
   ],
   "source": [
    "results = pd.DataFrame(grid.cv_results_)\n",
    "results"
   ]
  },
  {
   "cell_type": "code",
   "execution_count": 88,
   "id": "dc0e5ab2",
   "metadata": {},
   "outputs": [
    {
     "data": {
      "image/png": "[encoded data removed]",
      "text/plain": [
       "<Figure size 432x288 with 1 Axes>"
      ]
     },
     "metadata": {
      "needs_background": "light"
     },
     "output_type": "display_data"
    }
   ],
   "source": [
    "scores = np.array(results.mean_test_score).reshape(3,3,1)\n",
    "scores = scores[:,:,0]\n",
    "# plot the mean cross-validation scores\n",
    "heatmap(scores, xlabel='classifier__gamma', xticklabels=param_grid['classifier__gamma'], ylabel='classifier__C', yticklabels=param_grid['classifier__C'], cmap=\"viridis\")\n",
    "plt.show()"
   ]
  },
  {
   "cell_type": "code",
   "execution_count": 97,
   "id": "97e2fc28",
   "metadata": {},
   "outputs": [],
   "source": [
    "df2 = pd.DataFrame()\n",
    "df2['image'],  df2['gender']= image_paths, gender_labels\n",
    "df2 = df2.sample(n=3000, random_state = 777)"
   ]
  },
  {
   "cell_type": "code",
   "execution_count": 98,
   "id": "564b632c",
   "metadata": {},
   "outputs": [
    {
     "data": {
      "application/vnd.jupyter.widget-view+json": {
       "model_id": "08f412debefb4d479d6e4eeca67c9932",
       "version_major": 2,
       "version_minor": 0
      },
      "text/plain": [
       "  0%|          | 0/3000 [00:00<?, ?it/s]"
      ]
     },
     "metadata": {},
     "output_type": "display_data"
    }
   ],
   "source": [
    "X2 = extract_features(df2['image'])"
   ]
  },
  {
   "cell_type": "code",
   "execution_count": 99,
   "id": "5f607cb3",
   "metadata": {},
   "outputs": [],
   "source": [
    "X2 = X2/255.0\n",
    "y_gender = np.array(df2['gender'])"
   ]
  },
  {
   "cell_type": "code",
   "execution_count": 100,
   "id": "85581a7d",
   "metadata": {},
   "outputs": [],
   "source": [
    "result = grid.predict(X2)"
   ]
  },
  {
   "cell_type": "code",
   "execution_count": 101,
   "id": "2375df9f",
   "metadata": {},
   "outputs": [],
   "source": [
    "binary_conf_matrix = tf.math.confusion_matrix(result, y_gender)"
   ]
  },
  {
   "cell_type": "code",
   "execution_count": 102,
   "id": "01433795",
   "metadata": {},
   "outputs": [
    {
     "data": {
      "text/plain": [
       "<tf.Tensor: shape=(2, 2), dtype=int32, numpy=\n",
       "array([[1188,  186],\n",
       "       [ 239, 1387]], dtype=int32)>"
      ]
     },
     "execution_count": 102,
     "metadata": {},
     "output_type": "execute_result"
    }
   ],
   "source": [
    "binary_conf_matrix"
   ]
  },
  {
   "cell_type": "code",
   "execution_count": 103,
   "id": "c3ec8870",
   "metadata": {},
   "outputs": [
    {
     "data": {
      "text/plain": [
       "array([0, 0, 0, ..., 1, 0, 1])"
      ]
     },
     "execution_count": 103,
     "metadata": {},
     "output_type": "execute_result"
    }
   ],
   "source": [
    "result"
   ]
  },
  {
   "cell_type": "code",
   "execution_count": 96,
   "id": "c89fdb4a",
   "metadata": {},
   "outputs": [
    {
     "data": {
      "text/plain": [
       "array([0, 0, 0, 0, 0, 1, 0, 1, 1, 1, 0, 1, 1, 0, 0, 1, 1, 1, 0, 1, 1, 1,\n",
       "       0, 1, 1, 0, 0, 1, 1, 0, 1, 0, 0, 0, 1, 0, 0, 0, 1, 0, 1, 0, 0, 1,\n",
       "       0, 0, 1, 1, 0, 0, 0, 1, 1, 0, 0, 1, 0, 1, 0, 1, 0, 0, 1, 1, 1, 1,\n",
       "       0, 0, 1, 1, 0, 1, 0, 1, 0, 1, 1, 1, 1, 1, 1, 1, 1, 1, 1, 0, 0, 1,\n",
       "       0, 1, 1, 1, 0, 1, 0, 1, 0, 0, 0, 0])"
      ]
     },
     "execution_count": 96,
     "metadata": {},
     "output_type": "execute_result"
    }
   ],
   "source": [
    "y_gender"
   ]
  },
  {
   "cell_type": "code",
   "execution_count": null,
   "id": "3b60e64d",
   "metadata": {},
   "outputs": [],
   "source": []
  }
 ],
 "metadata": {
  "kernelspec": {
   "display_name": "Python 3 (ipykernel)",
   "language": "python",
   "name": "python3"
  },
  "language_info": {
   "codemirror_mode": {
    "name": "ipython",
    "version": 3
   },
   "file_extension": ".py",
   "mimetype": "text/x-python",
   "name": "python",
   "nbconvert_exporter": "python",
   "pygments_lexer": "ipython3",
   "version": "3.8.10"
  }
 },
 "nbformat": 4,
 "nbformat_minor": 5
}
