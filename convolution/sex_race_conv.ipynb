{
 "cells": [
  {
   "cell_type": "code",
   "execution_count": 1,
   "id": "ba2f0a55",
   "metadata": {},
   "outputs": [
    {
     "name": "stderr",
     "output_type": "stream",
     "text": [
      "2022-06-26 03:14:15.598660: W tensorflow/stream_executor/platform/default/dso_loader.cc:64] Could not load dynamic library 'libcudart.so.11.0'; dlerror: libcudart.so.11.0: cannot open shared object file: No such file or directory\n",
      "2022-06-26 03:14:15.598725: I tensorflow/stream_executor/cuda/cudart_stub.cc:29] Ignore above cudart dlerror if you do not have a GPU set up on your machine.\n"
     ]
    }
   ],
   "source": [
    "import pandas as pd\n",
    "import numpy as np\n",
    "import os\n",
    "import matplotlib.pyplot as plt\n",
    "import seaborn as sns\n",
    "import warnings\n",
    "from tqdm.notebook import tqdm\n",
    "warnings.filterwarnings('ignore')\n",
    "%matplotlib inline\n",
    "\n",
    "import tensorflow as tf\n",
    "from tensorflow.keras.applications import VGG16\n",
    "from tensorflow.keras.utils import load_img\n",
    "from keras.models import Sequential, Model\n",
    "from keras.layers import Dense, Conv2D, Dropout, Flatten, MaxPooling2D, Input, BatchNormalization, Activation"
   ]
  },
  {
   "cell_type": "code",
   "execution_count": 2,
   "id": "e316176c",
   "metadata": {},
   "outputs": [
    {
     "data": {
      "application/vnd.jupyter.widget-view+json": {
       "model_id": "2868dec3b1b8472881ad51619d2331a2",
       "version_major": 2,
       "version_minor": 0
      },
      "text/plain": [
       "  0%|          | 0/16383 [00:00<?, ?it/s]"
      ]
     },
     "metadata": {},
     "output_type": "display_data"
    }
   ],
   "source": [
    "BASE_DIR = './input/utkface-new/UTKFace/'\n",
    "\n",
    "image_paths = []\n",
    "age_labels = []\n",
    "gender_labels = []\n",
    "race_labels = []\n",
    "\n",
    "for filename in tqdm(os.listdir(BASE_DIR)):\n",
    "    image_path = os.path.join(BASE_DIR, filename)\n",
    "    temp = filename.split('_')\n",
    "    if len(temp) == 4:\n",
    "        age = int(temp[0])\n",
    "        gender = int(temp[1])\n",
    "        race = int(temp[2])\n",
    "        image_paths.append(image_path)\n",
    "        age_labels.append(age)\n",
    "        gender_labels.append(gender)\n",
    "        race_labels.append(race)"
   ]
  },
  {
   "cell_type": "code",
   "execution_count": 3,
   "id": "c745a697",
   "metadata": {},
   "outputs": [
    {
     "data": {
      "text/html": [
       "<div>\n",
       "<style scoped>\n",
       "    .dataframe tbody tr th:only-of-type {\n",
       "        vertical-align: middle;\n",
       "    }\n",
       "\n",
       "    .dataframe tbody tr th {\n",
       "        vertical-align: top;\n",
       "    }\n",
       "\n",
       "    .dataframe thead th {\n",
       "        text-align: right;\n",
       "    }\n",
       "</style>\n",
       "<table border=\"1\" class=\"dataframe\">\n",
       "  <thead>\n",
       "    <tr style=\"text-align: right;\">\n",
       "      <th></th>\n",
       "      <th>image</th>\n",
       "      <th>age</th>\n",
       "      <th>gender</th>\n",
       "      <th>race</th>\n",
       "    </tr>\n",
       "  </thead>\n",
       "  <tbody>\n",
       "    <tr>\n",
       "      <th>0</th>\n",
       "      <td>./input/utkface-new/UTKFace/1_0_2_201612191419...</td>\n",
       "      <td>1</td>\n",
       "      <td>0</td>\n",
       "      <td>2</td>\n",
       "    </tr>\n",
       "    <tr>\n",
       "      <th>1</th>\n",
       "      <td>./input/utkface-new/UTKFace/30_0_0_20170117144...</td>\n",
       "      <td>30</td>\n",
       "      <td>0</td>\n",
       "      <td>0</td>\n",
       "    </tr>\n",
       "    <tr>\n",
       "      <th>2</th>\n",
       "      <td>./input/utkface-new/UTKFace/38_1_1_20170113001...</td>\n",
       "      <td>38</td>\n",
       "      <td>1</td>\n",
       "      <td>1</td>\n",
       "    </tr>\n",
       "    <tr>\n",
       "      <th>3</th>\n",
       "      <td>./input/utkface-new/UTKFace/30_0_1_20170104170...</td>\n",
       "      <td>30</td>\n",
       "      <td>0</td>\n",
       "      <td>1</td>\n",
       "    </tr>\n",
       "    <tr>\n",
       "      <th>4</th>\n",
       "      <td>./input/utkface-new/UTKFace/29_1_1_20170112211...</td>\n",
       "      <td>29</td>\n",
       "      <td>1</td>\n",
       "      <td>1</td>\n",
       "    </tr>\n",
       "  </tbody>\n",
       "</table>\n",
       "</div>"
      ],
      "text/plain": [
       "                                               image  age  gender  race\n",
       "0  ./input/utkface-new/UTKFace/1_0_2_201612191419...    1       0     2\n",
       "1  ./input/utkface-new/UTKFace/30_0_0_20170117144...   30       0     0\n",
       "2  ./input/utkface-new/UTKFace/38_1_1_20170113001...   38       1     1\n",
       "3  ./input/utkface-new/UTKFace/30_0_1_20170104170...   30       0     1\n",
       "4  ./input/utkface-new/UTKFace/29_1_1_20170112211...   29       1     1"
      ]
     },
     "execution_count": 3,
     "metadata": {},
     "output_type": "execute_result"
    }
   ],
   "source": [
    "df = pd.DataFrame()\n",
    "df['image'], df['age'], df['gender'], df['race']= image_paths, age_labels, gender_labels, race_labels\n",
    "df.head()"
   ]
  },
  {
   "cell_type": "code",
   "execution_count": 4,
   "id": "ff824acf",
   "metadata": {},
   "outputs": [
    {
     "data": {
      "image/png": "[encoded data removed]",
      "text/plain": [
       "<Figure size 432x288 with 1 Axes>"
      ]
     },
     "metadata": {
      "needs_background": "light"
     },
     "output_type": "display_data"
    }
   ],
   "source": [
    "from PIL import Image\n",
    "img = Image.open(df['image'][0])\n",
    "plt.axis('off')\n",
    "plt.imshow(img);"
   ]
  },
  {
   "cell_type": "code",
   "execution_count": 5,
   "id": "14b7627a",
   "metadata": {},
   "outputs": [],
   "source": [
    "def extract_features(images):\n",
    "    features = []\n",
    "    i=0\n",
    "    for image in tqdm(images):\n",
    "        img = load_img(image, grayscale=False, color_mode = \"rgb\", target_size = (128,128))\n",
    "        #img = img.resize((128, 128), Image.ANTIALIAS)\n",
    "        img = np.array(img)\n",
    "        features.append(img)\n",
    "        i+=1\n",
    "        if i >= 5000:\n",
    "            break\n",
    "        \n",
    "    features = np.array(features)\n",
    "    # ignore this step if using RGB\n",
    "    #features = features.reshape(len(features), 128, 128, 3)\n",
    "    return features"
   ]
  },
  {
   "cell_type": "code",
   "execution_count": 6,
   "id": "61b431d2",
   "metadata": {},
   "outputs": [
    {
     "data": {
      "application/vnd.jupyter.widget-view+json": {
       "model_id": "7525b00017ce41cfad8b7e222d471034",
       "version_major": 2,
       "version_minor": 0
      },
      "text/plain": [
       "  0%|          | 0/16382 [00:00<?, ?it/s]"
      ]
     },
     "metadata": {},
     "output_type": "display_data"
    }
   ],
   "source": [
    "X = extract_features(df['image'])"
   ]
  },
  {
   "cell_type": "code",
   "execution_count": 7,
   "id": "bb82efd0",
   "metadata": {},
   "outputs": [
    {
     "data": {
      "text/plain": [
       "(5000, 128, 128, 3)"
      ]
     },
     "execution_count": 7,
     "metadata": {},
     "output_type": "execute_result"
    }
   ],
   "source": [
    "X.shape"
   ]
  },
  {
   "cell_type": "code",
   "execution_count": 8,
   "id": "21e22215",
   "metadata": {},
   "outputs": [],
   "source": [
    "X = X/255.0\n",
    "y_gender = np.array(df['gender'])\n",
    "y_age = np.array(df['age'])\n",
    "y_race = np.array(df['race'])"
   ]
  },
  {
   "cell_type": "code",
   "execution_count": 9,
   "id": "b4e75e39",
   "metadata": {},
   "outputs": [
    {
     "data": {
      "text/plain": [
       "0"
      ]
     },
     "execution_count": 9,
     "metadata": {},
     "output_type": "execute_result"
    }
   ],
   "source": [
    "y_race.min()"
   ]
  },
  {
   "cell_type": "code",
   "execution_count": 10,
   "id": "2ff8cd34",
   "metadata": {},
   "outputs": [],
   "source": [
    "input_shape = (128, 128, 3)"
   ]
  },
  {
   "cell_type": "code",
   "execution_count": 11,
   "id": "e7ce83c4",
   "metadata": {},
   "outputs": [
    {
     "name": "stderr",
     "output_type": "stream",
     "text": [
      "2022-06-26 03:14:25.948237: E tensorflow/stream_executor/cuda/cuda_driver.cc:271] failed call to cuInit: CUDA_ERROR_NO_DEVICE: no CUDA-capable device is detected\n",
      "2022-06-26 03:14:25.948281: I tensorflow/stream_executor/cuda/cuda_diagnostics.cc:156] kernel driver does not appear to be running on this host (janPC): /proc/driver/nvidia/version does not exist\n",
      "2022-06-26 03:14:25.949925: I tensorflow/core/platform/cpu_feature_guard.cc:193] This TensorFlow binary is optimized with oneAPI Deep Neural Network Library (oneDNN) to use the following CPU instructions in performance-critical operations:  AVX2 FMA\n",
      "To enable them in other operations, rebuild TensorFlow with the appropriate compiler flags.\n"
     ]
    }
   ],
   "source": [
    "model_transfer = VGG16(weights = 'imagenet', include_top = False, input_shape = input_shape)"
   ]
  },
  {
   "cell_type": "code",
   "execution_count": 12,
   "id": "11bbbfb2",
   "metadata": {},
   "outputs": [],
   "source": [
    "import datetime\n",
    "log_dir = \"logs/fit/\" + datetime.datetime.now().strftime(\"%Y%m%d-%H%M%S\")\n",
    "tensorboard_callback = tf.keras.callbacks.TensorBoard(log_dir=log_dir, histogram_freq=1)\n",
    "\n",
    "for layer in model_transfer.layers[:]:\n",
    "    layer.trainable = False"
   ]
  },
  {
   "cell_type": "code",
   "execution_count": 13,
   "id": "8f22fefc",
   "metadata": {},
   "outputs": [
    {
     "name": "stdout",
     "output_type": "stream",
     "text": [
      "Model: \"model\"\n",
      "__________________________________________________________________________________________________\n",
      " Layer (type)                   Output Shape         Param #     Connected to                     \n",
      "==================================================================================================\n",
      " input_2 (InputLayer)           [(None, 128, 128, 3  0           []                               \n",
      "                                )]                                                                \n",
      "                                                                                                  \n",
      " vgg16 (Functional)             (None, 4, 4, 512)    14714688    ['input_2[0][0]']                \n",
      "                                                                                                  \n",
      " flatten (Flatten)              (None, 8192)         0           ['vgg16[0][0]']                  \n",
      "                                                                                                  \n",
      " dense (Dense)                  (None, 256)          2097408     ['flatten[0][0]']                \n",
      "                                                                                                  \n",
      " dense_1 (Dense)                (None, 256)          2097408     ['flatten[0][0]']                \n",
      "                                                                                                  \n",
      " dense_2 (Dense)                (None, 256)          2097408     ['flatten[0][0]']                \n",
      "                                                                                                  \n",
      " batch_normalization (BatchNorm  (None, 256)         1024        ['dense[0][0]']                  \n",
      " alization)                                                                                       \n",
      "                                                                                                  \n",
      " batch_normalization_1 (BatchNo  (None, 256)         1024        ['dense_1[0][0]']                \n",
      " rmalization)                                                                                     \n",
      "                                                                                                  \n",
      " batch_normalization_2 (BatchNo  (None, 256)         1024        ['dense_2[0][0]']                \n",
      " rmalization)                                                                                     \n",
      "                                                                                                  \n",
      " dropout (Dropout)              (None, 256)          0           ['batch_normalization[0][0]']    \n",
      "                                                                                                  \n",
      " dropout_1 (Dropout)            (None, 256)          0           ['batch_normalization_1[0][0]']  \n",
      "                                                                                                  \n",
      " dropout_2 (Dropout)            (None, 256)          0           ['batch_normalization_2[0][0]']  \n",
      "                                                                                                  \n",
      " gender_out (Dense)             (None, 1)            257         ['dropout[0][0]']                \n",
      "                                                                                                  \n",
      " age_out (Dense)                (None, 1)            257         ['dropout_1[0][0]']              \n",
      "                                                                                                  \n",
      " race_out (Dense)               (None, 5)            1285        ['dropout_2[0][0]']              \n",
      "                                                                                                  \n",
      "==================================================================================================\n",
      "Total params: 21,011,783\n",
      "Trainable params: 6,295,559\n",
      "Non-trainable params: 14,716,224\n",
      "__________________________________________________________________________________________________\n"
     ]
    }
   ],
   "source": [
    "inputs = Input((128,128,3))\n",
    "\n",
    "x = model_transfer(inputs)\n",
    "\n",
    "flatten = Flatten() (x)\n",
    "\n",
    "\n",
    "dense_1 = Dense(256, activation='elu') (flatten)\n",
    "dense_2 = Dense(256, activation='elu') (flatten)\n",
    "dense_3 = Dense(256, activation='elu') (flatten)\n",
    "\n",
    "batch_norm_51 = BatchNormalization()(dense_1)\n",
    "batch_norm_52 = BatchNormalization()(dense_2)\n",
    "batch_norm_53 = BatchNormalization()(dense_3)\n",
    "\n",
    "dropout_1 = Dropout(0.3) (batch_norm_51)\n",
    "dropout_2 = Dropout(0.3) (batch_norm_52)\n",
    "dropout_3 = Dropout(0.3) (batch_norm_53)\n",
    "\n",
    "output_1 = Dense(1, activation='sigmoid', name='gender_out') (dropout_1)\n",
    "output_2 = Dense(1, activation='relu', name='age_out') (dropout_2)\n",
    "output_3 = Dense(5, activation='softmax', name='race_out') (dropout_3)\n",
    "\n",
    "model = Model(inputs=[inputs], outputs=[output_1, output_2, output_3])\n",
    "\n",
    "\n",
    "model.compile(loss=['binary_crossentropy', 'mae', 'sparse_categorical_crossentropy'], optimizer='adam', metrics=['accuracy'])\n",
    "model.summary()"
   ]
  },
  {
   "cell_type": "code",
   "execution_count": null,
   "id": "6f3ee597",
   "metadata": {},
   "outputs": [
    {
     "name": "stderr",
     "output_type": "stream",
     "text": [
      "2022-06-26 03:15:30.544889: W tensorflow/core/framework/cpu_allocator_impl.cc:82] Allocation of 786432000 exceeds 10% of free system memory.\n"
     ]
    },
    {
     "name": "stdout",
     "output_type": "stream",
     "text": [
      "Epoch 1/30\n",
      "125/125 [==============================] - ETA: 0s - loss: 16.8344 - gender_out_loss: 0.5538 - age_out_loss: 14.7939 - race_out_loss: 1.4867 - gender_out_accuracy: 0.7997 - age_out_accuracy: 0.0068 - race_out_accuracy: 0.5343"
     ]
    },
    {
     "name": "stderr",
     "output_type": "stream",
     "text": [
      "2022-06-26 03:18:30.697971: W tensorflow/core/framework/cpu_allocator_impl.cc:82] Allocation of 566231040 exceeds 10% of free system memory.\n",
      "2022-06-26 03:18:30.864887: W tensorflow/core/framework/cpu_allocator_impl.cc:82] Allocation of 566231040 exceeds 10% of free system memory.\n",
      "2022-06-26 03:18:31.036351: W tensorflow/core/framework/cpu_allocator_impl.cc:82] Allocation of 566231040 exceeds 10% of free system memory.\n",
      "2022-06-26 03:18:31.198797: W tensorflow/core/framework/cpu_allocator_impl.cc:82] Allocation of 566231040 exceeds 10% of free system memory.\n"
     ]
    },
    {
     "name": "stdout",
     "output_type": "stream",
     "text": [
      "125/125 [==============================] - 181s 1s/step - loss: 16.8344 - gender_out_loss: 0.5538 - age_out_loss: 14.7939 - race_out_loss: 1.4867 - gender_out_accuracy: 0.7997 - age_out_accuracy: 0.0068 - race_out_accuracy: 0.5343 - val_loss: 33.9158 - val_gender_out_loss: 0.3439 - val_age_out_loss: 32.3532 - val_race_out_loss: 1.2187 - val_gender_out_accuracy: 0.8550 - val_age_out_accuracy: 0.0360 - val_race_out_accuracy: 0.5750\n",
      "Epoch 2/30\n",
      "125/125 [==============================] - 186s 1s/step - loss: 10.2695 - gender_out_loss: 0.2978 - age_out_loss: 9.1485 - race_out_loss: 0.8232 - gender_out_accuracy: 0.8775 - age_out_accuracy: 0.0052 - race_out_accuracy: 0.6917 - val_loss: 15.0441 - val_gender_out_loss: 0.4101 - val_age_out_loss: 13.2980 - val_race_out_loss: 1.3360 - val_gender_out_accuracy: 0.8190 - val_age_out_accuracy: 0.0160 - val_race_out_accuracy: 0.4930\n",
      "Epoch 3/30\n",
      "125/125 [==============================] - 183s 1s/step - loss: 7.3397 - gender_out_loss: 0.2391 - age_out_loss: 6.4429 - race_out_loss: 0.6578 - gender_out_accuracy: 0.9030 - age_out_accuracy: 0.0082 - race_out_accuracy: 0.7625 - val_loss: 9.5379 - val_gender_out_loss: 0.3482 - val_age_out_loss: 8.0411 - val_race_out_loss: 1.1485 - val_gender_out_accuracy: 0.8630 - val_age_out_accuracy: 0.0180 - val_race_out_accuracy: 0.6020\n",
      "Epoch 4/30\n",
      "125/125 [==============================] - 184s 1s/step - loss: 6.4737 - gender_out_loss: 0.1995 - age_out_loss: 5.7331 - race_out_loss: 0.5411 - gender_out_accuracy: 0.9202 - age_out_accuracy: 0.0080 - race_out_accuracy: 0.8080 - val_loss: 6.9683 - val_gender_out_loss: 0.3528 - val_age_out_loss: 5.3274 - val_race_out_loss: 1.2881 - val_gender_out_accuracy: 0.8690 - val_age_out_accuracy: 0.0140 - val_race_out_accuracy: 0.5990\n",
      "Epoch 5/30\n",
      "125/125 [==============================] - 195s 2s/step - loss: 5.9057 - gender_out_loss: 0.1574 - age_out_loss: 5.3233 - race_out_loss: 0.4250 - gender_out_accuracy: 0.9410 - age_out_accuracy: 0.0103 - race_out_accuracy: 0.8543 - val_loss: 7.2501 - val_gender_out_loss: 0.3707 - val_age_out_loss: 5.2975 - val_race_out_loss: 1.5819 - val_gender_out_accuracy: 0.8730 - val_age_out_accuracy: 0.0060 - val_race_out_accuracy: 0.5280\n",
      "Epoch 6/30\n",
      "125/125 [==============================] - 187s 1s/step - loss: 5.1903 - gender_out_loss: 0.1344 - age_out_loss: 4.6943 - race_out_loss: 0.3616 - gender_out_accuracy: 0.9515 - age_out_accuracy: 0.0103 - race_out_accuracy: 0.8735 - val_loss: 6.5882 - val_gender_out_loss: 0.3706 - val_age_out_loss: 4.9576 - val_race_out_loss: 1.2600 - val_gender_out_accuracy: 0.8760 - val_age_out_accuracy: 0.0090 - val_race_out_accuracy: 0.6250\n",
      "Epoch 7/30\n",
      "125/125 [==============================] - 192s 2s/step - loss: 5.0253 - gender_out_loss: 0.1318 - age_out_loss: 4.6121 - race_out_loss: 0.2813 - gender_out_accuracy: 0.9498 - age_out_accuracy: 0.0103 - race_out_accuracy: 0.9030 - val_loss: 10.3588 - val_gender_out_loss: 0.4869 - val_age_out_loss: 8.2953 - val_race_out_loss: 1.5767 - val_gender_out_accuracy: 0.8430 - val_age_out_accuracy: 0.0090 - val_race_out_accuracy: 0.5790\n",
      "Epoch 8/30\n",
      "125/125 [==============================] - 191s 2s/step - loss: 4.7905 - gender_out_loss: 0.1021 - age_out_loss: 4.4526 - race_out_loss: 0.2358 - gender_out_accuracy: 0.9603 - age_out_accuracy: 0.0145 - race_out_accuracy: 0.9210 - val_loss: 7.2395 - val_gender_out_loss: 0.5164 - val_age_out_loss: 5.2207 - val_race_out_loss: 1.5024 - val_gender_out_accuracy: 0.8330 - val_age_out_accuracy: 0.0150 - val_race_out_accuracy: 0.5840\n",
      "Epoch 9/30\n",
      "125/125 [==============================] - 189s 2s/step - loss: 4.5636 - gender_out_loss: 0.0984 - age_out_loss: 4.2744 - race_out_loss: 0.1908 - gender_out_accuracy: 0.9607 - age_out_accuracy: 0.0117 - race_out_accuracy: 0.9335 - val_loss: 7.7213 - val_gender_out_loss: 0.4442 - val_age_out_loss: 5.7675 - val_race_out_loss: 1.5097 - val_gender_out_accuracy: 0.8640 - val_age_out_accuracy: 0.0180 - val_race_out_accuracy: 0.5990\n",
      "Epoch 10/30\n",
      "125/125 [==============================] - 191s 2s/step - loss: 4.4635 - gender_out_loss: 0.0901 - age_out_loss: 4.1876 - race_out_loss: 0.1858 - gender_out_accuracy: 0.9653 - age_out_accuracy: 0.0178 - race_out_accuracy: 0.9377 - val_loss: 8.4270 - val_gender_out_loss: 0.5202 - val_age_out_loss: 6.0883 - val_race_out_loss: 1.8186 - val_gender_out_accuracy: 0.8510 - val_age_out_accuracy: 0.0080 - val_race_out_accuracy: 0.5780\n",
      "Epoch 11/30\n",
      "125/125 [==============================] - 184s 1s/step - loss: 4.3349 - gender_out_loss: 0.0763 - age_out_loss: 4.1120 - race_out_loss: 0.1466 - gender_out_accuracy: 0.9750 - age_out_accuracy: 0.0213 - race_out_accuracy: 0.9507 - val_loss: 7.7395 - val_gender_out_loss: 0.4784 - val_age_out_loss: 5.4070 - val_race_out_loss: 1.8541 - val_gender_out_accuracy: 0.8730 - val_age_out_accuracy: 0.0090 - val_race_out_accuracy: 0.6220\n",
      "Epoch 12/30\n",
      " 81/125 [==================>...........] - ETA: 1:03 - loss: 4.1789 - gender_out_loss: 0.0666 - age_out_loss: 3.9946 - race_out_loss: 0.1178 - gender_out_accuracy: 0.9745 - age_out_accuracy: 0.0197 - race_out_accuracy: 0.9618"
     ]
    }
   ],
   "source": [
    "history = model.fit(x=X, y=[y_gender[:5000], y_age[:5000], y_race[:5000]], batch_size=32, epochs=30, validation_split=0.2,callbacks = [tensorboard_callback ])"
   ]
  },
  {
   "cell_type": "code",
   "execution_count": null,
   "id": "050444db",
   "metadata": {},
   "outputs": [],
   "source": [
    "model.save(\"conv_model_3\")"
   ]
  },
  {
   "cell_type": "code",
   "execution_count": null,
   "id": "6ab66bc4",
   "metadata": {},
   "outputs": [],
   "source": []
  },
  {
   "cell_type": "code",
   "execution_count": null,
   "id": "1c2e73ad",
   "metadata": {},
   "outputs": [],
   "source": []
  }
 ],
 "metadata": {
  "kernelspec": {
   "display_name": "Python 3 (ipykernel)",
   "language": "python",
   "name": "python3"
  },
  "language_info": {
   "codemirror_mode": {
    "name": "ipython",
    "version": 3
   },
   "file_extension": ".py",
   "mimetype": "text/x-python",
   "name": "python",
   "nbconvert_exporter": "python",
   "pygments_lexer": "ipython3",
   "version": "3.8.10"
  }
 },
 "nbformat": 4,
 "nbformat_minor": 5
}
